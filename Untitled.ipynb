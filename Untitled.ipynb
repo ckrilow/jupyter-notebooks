{
 "cells": [
  {
   "cell_type": "code",
   "execution_count": 1,
   "metadata": {},
   "outputs": [],
   "source": [
    "import plotly.graph_objs as go\n",
    "import pandas as pd\n",
    "from plotly.offline import iplot\n",
    "import numpy as np\n",
    "import statistics \n",
    "import plotly.express as px\n",
    "from numpy.lib import recfunctions as rfn\n",
    "import plotnine as plt9\n",
    "from plotnine import *\n",
    "from plotnine.data import *"
   ]
  },
  {
   "cell_type": "code",
   "execution_count": 2,
   "metadata": {},
   "outputs": [],
   "source": [
    "#E7 Data\n",
    "e7_t01_rawCount_data = pd.read_csv(\"/Users/krilowcn/Desktop/Projects/GSIS/data/normalizedData/200613_E7_logNorm/200613_T01_logNorm.csv.gz\", sep=\",\", index_col=0,low_memory=False) #pandas DataFrame\n",
    "e7_t02_rawCount_data = pd.read_csv(\"/Users/krilowcn/Desktop/Projects/GSIS/data/normalizedData/200613_E7_logNorm/200613_T02_logNorm.csv.gz\", sep=\",\", index_col=0,low_memory=False) #pandas DataFrame\n",
    "e7_t04_rawCount_data = pd.read_csv(\"/Users/krilowcn/Desktop/Projects/GSIS/data/normalizedData/200613_E7_logNorm/200613_T04_logNorm.csv.gz\", sep=\",\", index_col=0,low_memory=False) #pandas DataFrame\n",
    "e7_t05_rawCount_data = pd.read_csv(\"/Users/krilowcn/Desktop/Projects/GSIS/data/normalizedData/200613_E7_logNorm/200613_T05_logNorm.csv.gz\", sep=\",\", index_col=0,low_memory=False) #pandas DataFrame\n",
    "e7_t07_rawCount_data = pd.read_csv(\"/Users/krilowcn/Desktop/Projects/GSIS/data/normalizedData/200613_E7_logNorm/200613_T07_logNorm.csv.gz\", sep=\",\", index_col=0,low_memory=False) #pandas DataFrame\n",
    "e7_t08_rawCount_data = pd.read_csv(\"/Users/krilowcn/Desktop/Projects/GSIS/data/normalizedData/200613_E7_logNorm/200613_T08_logNorm.csv.gz\", sep=\",\", index_col=0,low_memory=False) #pandas DataFrame\n",
    "e7_t09_rawCount_data = pd.read_csv(\"/Users/krilowcn/Desktop/Projects/GSIS/data/normalizedData/200613_E7_logNorm/200613_T09_logNorm.csv.gz\", sep=\",\", index_col=0,low_memory=False) #pandas DataFrame\n",
    "e7_t10_rawCount_data = pd.read_csv(\"/Users/krilowcn/Desktop/Projects/GSIS/data/normalizedData/200613_E7_logNorm/200613_T10_logNorm.csv.gz\", sep=\",\", index_col=0,low_memory=False) #pandas DataFrame\n",
    "e7_t11_rawCount_data = pd.read_csv(\"/Users/krilowcn/Desktop/Projects/GSIS/data/normalizedData/200613_E7_logNorm/200613_T11_logNorm.csv.gz\", sep=\",\", index_col=0,low_memory=False) #pandas DataFrame\n",
    "e7_t13_rawCount_data = pd.read_csv(\"/Users/krilowcn/Desktop/Projects/GSIS/data/normalizedData/200613_E7_logNorm/200613_T13_logNorm.csv.gz\", sep=\",\", index_col=0,low_memory=False) #pandas DataFrame\n",
    "e7_t15_rawCount_data = pd.read_csv(\"/Users/krilowcn/Desktop/Projects/GSIS/data/normalizedData/200613_E7_logNorm/200613_T15_logNorm.csv.gz\", sep=\",\", index_col=0,low_memory=False) #pandas DataFrame\n",
    "e7_t16_rawCount_data = pd.read_csv(\"/Users/krilowcn/Desktop/Projects/GSIS/data/normalizedData/200613_E7_logNorm/200613_T16_logNorm.csv.gz\", sep=\",\", index_col=0,low_memory=False) #pandas DataFrame\n",
    "e7_t17_rawCount_data = pd.read_csv(\"/Users/krilowcn/Desktop/Projects/GSIS/data/normalizedData/200613_E7_logNorm/200613_T17_logNorm.csv.gz\", sep=\",\", index_col=0,low_memory=False) #pandas DataFrame\n",
    "e7_t18_rawCount_data = pd.read_csv(\"/Users/krilowcn/Desktop/Projects/GSIS/data/normalizedData/200613_E7_logNorm/200613_T18_logNorm.csv.gz\", sep=\",\", index_col=0,low_memory=False) #pandas DataFrame\n",
    "e7_t20_rawCount_data = pd.read_csv(\"/Users/krilowcn/Desktop/Projects/GSIS/data/normalizedData/200613_E7_logNorm/200613_T20_logNorm.csv.gz\", sep=\",\", index_col=0,low_memory=False) #pandas DataFrame\n",
    "e7_t21_rawCount_data = pd.read_csv(\"/Users/krilowcn/Desktop/Projects/GSIS/data/normalizedData/200613_E7_logNorm/200613_T21_logNorm.csv.gz\", sep=\",\", index_col=0,low_memory=False) #pandas DataFrame\n",
    "e7_t22_rawCount_data = pd.read_csv(\"/Users/krilowcn/Desktop/Projects/GSIS/data/normalizedData/200613_E7_logNorm/200613_T22_logNorm.csv.gz\", sep=\",\", index_col=0,low_memory=False) #pandas DataFrame\n",
    "\n",
    "e7_cell_types = pd.read_csv(\"/Users/krilowcn/Desktop/Projects/GSIS/data/normalizedData/200613_E7_logNorm/200613_E7_cell_type.txt\", sep=\"\\t\") #pandas DataFrame for cell types\n",
    "\n",
    "e7_cell_types_list = ['Alpha','Beta','Delta','Gamma','Epsilon'] #the cell types of interest for this work\n",
    "e7_cell_types = e7_cell_types[e7_cell_types['CellType'].isin(e7_cell_types_list)] # parsing sampele type list, to only contain the cell types of interest\n",
    "e7_cell_types.reset_index(drop=True, inplace=True)\n",
    "\n",
    "updated_list = []\n",
    "for t in e7_cell_types['SampleID'].values:\n",
    "    if t in ['T01', 'T02']:\n",
    "        updated_list.append('0')\n",
    "    elif t in ['T04','T05']:\n",
    "        updated_list.append('1')\n",
    "    elif t in ['T07','T08','T09', 'T10']:\n",
    "        updated_list.append('2')\n",
    "    elif t in ['T11','T13']:\n",
    "        updated_list.append('4')\n",
    "    elif t in ['T15','T16','T17','T18']:\n",
    "        updated_list.append('12')\n",
    "    elif t in ['T20','T21','T22']:\n",
    "        updated_list.append('24')\n",
    "    else:\n",
    "        updated_list.append('NA')\n",
    "        updated_list = []\n",
    "        \n",
    "e7_cell_types['TimePoint'] = updated_list\n",
    "\n",
    "\n",
    "#E12 Data\n",
    "\n",
    "e12_t01_rawCount_data = pd.read_csv(\"/Users/krilowcn/Desktop/Projects/GSIS/data/normalizedData/200613_E12_logNorm/200613_E12-01_logNorm.csv.gz\", sep=\",\", index_col=0,low_memory=False) #pandas DataFrame\n",
    "e12_t02_rawCount_data = pd.read_csv(\"/Users/krilowcn/Desktop/Projects/GSIS/data/normalizedData/200613_E12_logNorm/200613_E12-02_logNorm.csv.gz\", sep=\",\", index_col=0,low_memory=False) #pandas DataFrame\n",
    "e12_t03_rawCount_data = pd.read_csv(\"/Users/krilowcn/Desktop/Projects/GSIS/data/normalizedData/200613_E12_logNorm/200613_E12-03_logNorm.csv.gz\", sep=\",\", index_col=0,low_memory=False) #pandas DataFrame\n",
    "e12_t04_rawCount_data = pd.read_csv(\"/Users/krilowcn/Desktop/Projects/GSIS/data/normalizedData/200613_E12_logNorm/200613_E12-04_logNorm.csv.gz\", sep=\",\", index_col=0,low_memory=False) #pandas DataFrame\n",
    "e12_t05_rawCount_data = pd.read_csv(\"/Users/krilowcn/Desktop/Projects/GSIS/data/normalizedData/200613_E12_logNorm/200613_E12-05_logNorm.csv.gz\", sep=\",\", index_col=0,low_memory=False) #pandas DataFrame\n",
    "e12_t06_rawCount_data = pd.read_csv(\"/Users/krilowcn/Desktop/Projects/GSIS/data/normalizedData/200613_E12_logNorm/200613_E12-06_logNorm.csv.gz\", sep=\",\", index_col=0,low_memory=False) #pandas DataFrame\n",
    "e12_t07_rawCount_data = pd.read_csv(\"/Users/krilowcn/Desktop/Projects/GSIS/data/normalizedData/200613_E12_logNorm/200613_E12-07_logNorm.csv.gz\", sep=\",\", index_col=0,low_memory=False) #pandas DataFrame\n",
    "e12_t08_rawCount_data = pd.read_csv(\"/Users/krilowcn/Desktop/Projects/GSIS/data/normalizedData/200613_E12_logNorm/200613_E12-08_logNorm.csv.gz\", sep=\",\", index_col=0,low_memory=False) #pandas DataFrame\n",
    "e12_t09_rawCount_data = pd.read_csv(\"/Users/krilowcn/Desktop/Projects/GSIS/data/normalizedData/200613_E12_logNorm/200613_E12-09_logNorm.csv.gz\", sep=\",\", index_col=0,low_memory=False) #pandas DataFrame\n",
    "e12_t10_rawCount_data = pd.read_csv(\"/Users/krilowcn/Desktop/Projects/GSIS/data/normalizedData/200613_E12_logNorm/200613_E12-10_logNorm.csv.gz\", sep=\",\", index_col=0,low_memory=False) #pandas DataFrame\n",
    "# e12_t11_rawCount_data = pd.read_csv(\"/Users/krilowcn/Desktop/Projects/GSIS/data/normalizedData/200613_E12_logNorm/200613_E12-11_logNorm.csv.gz\", sep=\",\", index_col=0,low_memory=False) #pandas DataFrame\n",
    "# e12_t12_rawCount_data = pd.read_csv(\"/Users/krilowcn/Desktop/Projects/GSIS/data/normalizedData/200613_E12_logNorm/200613_E12-12_logNorm.csv.gz\", sep=\",\", index_col=0,low_memory=False) #pandas DataFrame\n",
    "# e12_t13_rawCount_data = pd.read_csv(\"/Users/krilowcn/Desktop/Projects/GSIS/data/normalizedData/200613_E12_logNorm/200613_E12-13_logNorm.csv.gz\", sep=\",\", index_col=0,low_memory=False) #pandas DataFrame\n",
    "# e12_t14_rawCount_data = pd.read_csv(\"/Users/krilowcn/Desktop/Projects/GSIS/data/normalizedData/200613_E12_logNorm/200613_E12-14_logNorm.csv.gz\", sep=\",\", index_col=0,low_memory=False) #pandas DataFrame\n",
    "e12_t15_rawCount_data = pd.read_csv(\"/Users/krilowcn/Desktop/Projects/GSIS/data/normalizedData/200613_E12_logNorm/200613_E12-15_logNorm.csv.gz\", sep=\",\", index_col=0,low_memory=False) #pandas DataFrame\n",
    "e12_t16_rawCount_data = pd.read_csv(\"/Users/krilowcn/Desktop/Projects/GSIS/data/normalizedData/200613_E12_logNorm/200613_E12-16_logNorm.csv.gz\", sep=\",\", index_col=0,low_memory=False) #pandas DataFrame\n",
    "e12_t17_rawCount_data = pd.read_csv(\"/Users/krilowcn/Desktop/Projects/GSIS/data/normalizedData/200613_E12_logNorm/200613_E12-17_logNorm.csv.gz\", sep=\",\", index_col=0,low_memory=False) #pandas DataFrame\n",
    "e12_t18_rawCount_data = pd.read_csv(\"/Users/krilowcn/Desktop/Projects/GSIS/data/normalizedData/200613_E12_logNorm/200613_E12-18_logNorm.csv.gz\", sep=\",\", index_col=0,low_memory=False) #pandas DataFrame\n",
    "e12_t19_rawCount_data = pd.read_csv(\"/Users/krilowcn/Desktop/Projects/GSIS/data/normalizedData/200613_E12_logNorm/200613_E12-19_logNorm.csv.gz\", sep=\",\", index_col=0,low_memory=False) #pandas DataFrame\n",
    "e12_t20_rawCount_data = pd.read_csv(\"/Users/krilowcn/Desktop/Projects/GSIS/data/normalizedData/200613_E12_logNorm/200613_E12-20_logNorm.csv.gz\", sep=\",\", index_col=0,low_memory=False) #pandas DataFrame\n",
    "e12_t21_rawCount_data = pd.read_csv(\"/Users/krilowcn/Desktop/Projects/GSIS/data/normalizedData/200613_E12_logNorm/200613_E12-21_logNorm.csv.gz\", sep=\",\", index_col=0,low_memory=False) #pandas DataFrame\n",
    "e12_t22_rawCount_data = pd.read_csv(\"/Users/krilowcn/Desktop/Projects/GSIS/data/normalizedData/200613_E12_logNorm/200613_E12-22_logNorm.csv.gz\", sep=\",\", index_col=0,low_memory=False) #pandas DataFrame\n",
    "\n",
    "e12_cell_types = pd.read_csv(\"/Users/krilowcn/Desktop/Projects/GSIS/data/normalizedData/200613_E12_logNorm/200613_E12_cell_type.txt\", sep=\"\\t\") #pandas DataFrame for cell types\n",
    "\n",
    "e12_cell_types_list = ['Alpha','Beta','Delta','Gamma','Epsilon'] #the cell types of interest for this work\n",
    "e12_cell_types = e12_cell_types[e12_cell_types['CellType'].isin(e12_cell_types_list)] # parsing sampele type list, to only contain the cell types of interest\n",
    "e12_cell_types.reset_index(drop=True, inplace=True)\n",
    "\n",
    "updated_list = []\n",
    "for t in e12_cell_types['SampleID'].values:\n",
    "    if t in ['E12-01', 'E12-02']:\n",
    "        updated_list.append('0')\n",
    "    elif t in ['E12-03','E12-04','E12-05', 'E12-06']:\n",
    "        updated_list.append('2')\n",
    "    elif t in ['E12-07','E12-08','E12-09','E12-10']:\n",
    "        updated_list.append('4')\n",
    "#     elif t in ['E12-11','E12-12','E12-13','E12-14']:\n",
    "#         updated_list.append('8')\n",
    "    elif t in ['E12-15','E12-16','E12-17','E12-18']:\n",
    "        updated_list.append('12')\n",
    "    elif t in ['E12-19','E12-20','E12-21','E12-22']:\n",
    "        updated_list.append('24')\n",
    "    else:\n",
    "        updated_list.append('NA')\n",
    "        \n",
    "e12_cell_types['TimePoint'] = updated_list\n"
   ]
  },
  {
   "cell_type": "code",
   "execution_count": 35,
   "metadata": {},
   "outputs": [],
   "source": [
    "cell_types = pd.concat([e7_cell_types, pd.DataFrame(e12_cell_types)])\n",
    "# cell_types"
   ]
  },
  {
   "cell_type": "code",
   "execution_count": 18,
   "metadata": {},
   "outputs": [],
   "source": [
    "# e7_rslt_df = e7_cell_types.loc[e7_cell_types['CellType'] =='Epsilon']\n",
    "\n",
    "# e_12_rslt_df = e12_cell_types.loc[e12_cell_types['CellType'] =='Epsilon']"
   ]
  },
  {
   "cell_type": "code",
   "execution_count": 19,
   "metadata": {},
   "outputs": [],
   "source": [
    "# e_12_rslt_df"
   ]
  },
  {
   "cell_type": "code",
   "execution_count": 20,
   "metadata": {},
   "outputs": [],
   "source": [
    "# Data dict\n",
    "e7_e12_sample_dict = {\n",
    "    'T01': pd.read_csv(\"/Users/krilowcn/Desktop/Projects/GSIS/data/normalizedData/200613_E7_logNorm/200613_T01_logNorm.csv.gz\", sep=\",\", index_col=0,low_memory=False), \n",
    "    'T02': pd.read_csv(\"/Users/krilowcn/Desktop/Projects/GSIS/data/normalizedData/200613_E7_logNorm/200613_T02_logNorm.csv.gz\", sep=\",\", index_col=0,low_memory=False), \n",
    "    'T04': pd.read_csv(\"/Users/krilowcn/Desktop/Projects/GSIS/data/normalizedData/200613_E7_logNorm/200613_T04_logNorm.csv.gz\", sep=\",\", index_col=0,low_memory=False), \n",
    "    'T05': pd.read_csv(\"/Users/krilowcn/Desktop/Projects/GSIS/data/normalizedData/200613_E7_logNorm/200613_T05_logNorm.csv.gz\", sep=\",\", index_col=0,low_memory=False), \n",
    "    'T07': pd.read_csv(\"/Users/krilowcn/Desktop/Projects/GSIS/data/normalizedData/200613_E7_logNorm/200613_T07_logNorm.csv.gz\", sep=\",\", index_col=0,low_memory=False), \n",
    "    'T08': pd.read_csv(\"/Users/krilowcn/Desktop/Projects/GSIS/data/normalizedData/200613_E7_logNorm/200613_T08_logNorm.csv.gz\", sep=\",\", index_col=0,low_memory=False), \n",
    "    'T09': pd.read_csv(\"/Users/krilowcn/Desktop/Projects/GSIS/data/normalizedData/200613_E7_logNorm/200613_T09_logNorm.csv.gz\", sep=\",\", index_col=0,low_memory=False), \n",
    "    'T10': pd.read_csv(\"/Users/krilowcn/Desktop/Projects/GSIS/data/normalizedData/200613_E7_logNorm/200613_T10_logNorm.csv.gz\", sep=\",\", index_col=0,low_memory=False), \n",
    "    'T11': pd.read_csv(\"/Users/krilowcn/Desktop/Projects/GSIS/data/normalizedData/200613_E7_logNorm/200613_T11_logNorm.csv.gz\", sep=\",\", index_col=0,low_memory=False), \n",
    "    'T13': pd.read_csv(\"/Users/krilowcn/Desktop/Projects/GSIS/data/normalizedData/200613_E7_logNorm/200613_T13_logNorm.csv.gz\", sep=\",\", index_col=0,low_memory=False), \n",
    "    'T15': pd.read_csv(\"/Users/krilowcn/Desktop/Projects/GSIS/data/normalizedData/200613_E7_logNorm/200613_T15_logNorm.csv.gz\", sep=\",\", index_col=0,low_memory=False), \n",
    "    'T16': pd.read_csv(\"/Users/krilowcn/Desktop/Projects/GSIS/data/normalizedData/200613_E7_logNorm/200613_T16_logNorm.csv.gz\", sep=\",\", index_col=0,low_memory=False), \n",
    "    'T17': pd.read_csv(\"/Users/krilowcn/Desktop/Projects/GSIS/data/normalizedData/200613_E7_logNorm/200613_T17_logNorm.csv.gz\", sep=\",\", index_col=0,low_memory=False), \n",
    "    'T18': pd.read_csv(\"/Users/krilowcn/Desktop/Projects/GSIS/data/normalizedData/200613_E7_logNorm/200613_T18_logNorm.csv.gz\", sep=\",\", index_col=0,low_memory=False), \n",
    "    'T20': pd.read_csv(\"/Users/krilowcn/Desktop/Projects/GSIS/data/normalizedData/200613_E7_logNorm/200613_T20_logNorm.csv.gz\", sep=\",\", index_col=0,low_memory=False), \n",
    "    'T21': pd.read_csv(\"/Users/krilowcn/Desktop/Projects/GSIS/data/normalizedData/200613_E7_logNorm/200613_T21_logNorm.csv.gz\", sep=\",\", index_col=0,low_memory=False), \n",
    "    'T22': pd.read_csv(\"/Users/krilowcn/Desktop/Projects/GSIS/data/normalizedData/200613_E7_logNorm/200613_T22_logNorm.csv.gz\", sep=\",\", index_col=0,low_memory=False),\n",
    "    'E12-01': pd.read_csv(\"/Users/krilowcn/Desktop/Projects/GSIS/data/normalizedData/200613_E12_logNorm/200613_E12-01_logNorm.csv.gz\", sep=\",\", index_col=0,low_memory=False),\n",
    "    'E12-02': pd.read_csv(\"/Users/krilowcn/Desktop/Projects/GSIS/data/normalizedData/200613_E12_logNorm/200613_E12-02_logNorm.csv.gz\", sep=\",\", index_col=0,low_memory=False),  \n",
    "    'E12-03': pd.read_csv(\"/Users/krilowcn/Desktop/Projects/GSIS/data/normalizedData/200613_E12_logNorm/200613_E12-03_logNorm.csv.gz\", sep=\",\", index_col=0,low_memory=False),  \n",
    "    'E12-04': pd.read_csv(\"/Users/krilowcn/Desktop/Projects/GSIS/data/normalizedData/200613_E12_logNorm/200613_E12-04_logNorm.csv.gz\", sep=\",\", index_col=0,low_memory=False),  \n",
    "    'E12-05': pd.read_csv(\"/Users/krilowcn/Desktop/Projects/GSIS/data/normalizedData/200613_E12_logNorm/200613_E12-05_logNorm.csv.gz\", sep=\",\", index_col=0,low_memory=False),  \n",
    "    'E12-06': pd.read_csv(\"/Users/krilowcn/Desktop/Projects/GSIS/data/normalizedData/200613_E12_logNorm/200613_E12-06_logNorm.csv.gz\", sep=\",\", index_col=0,low_memory=False),  \n",
    "    'E12-07': pd.read_csv(\"/Users/krilowcn/Desktop/Projects/GSIS/data/normalizedData/200613_E12_logNorm/200613_E12-07_logNorm.csv.gz\", sep=\",\", index_col=0,low_memory=False),  \n",
    "    'E12-08': pd.read_csv(\"/Users/krilowcn/Desktop/Projects/GSIS/data/normalizedData/200613_E12_logNorm/200613_E12-08_logNorm.csv.gz\", sep=\",\", index_col=0,low_memory=False),  \n",
    "    'E12-09': pd.read_csv(\"/Users/krilowcn/Desktop/Projects/GSIS/data/normalizedData/200613_E12_logNorm/200613_E12-09_logNorm.csv.gz\", sep=\",\", index_col=0,low_memory=False),  \n",
    "    'E12-10': pd.read_csv(\"/Users/krilowcn/Desktop/Projects/GSIS/data/normalizedData/200613_E12_logNorm/200613_E12-10_logNorm.csv.gz\", sep=\",\", index_col=0,low_memory=False),    \n",
    "#     'E12-11': pd.read_csv(\"/Users/krilowcn/Desktop/Projects/GSIS/data/normalizedData/200613_E12_logNorm/200613_E12-11_logNorm.csv.gz\", sep=\",\", index_col=0,low_memory=False),  \n",
    "#     'E12-12': pd.read_csv(\"/Users/krilowcn/Desktop/Projects/GSIS/data/normalizedData/200613_E12_logNorm/200613_E12-12_logNorm.csv.gz\", sep=\",\", index_col=0,low_memory=False),  \n",
    "#     'E12-13': pd.read_csv(\"/Users/krilowcn/Desktop/Projects/GSIS/data/normalizedData/200613_E12_logNorm/200613_E12-13_logNorm.csv.gz\", sep=\",\", index_col=0,low_memory=False),  \n",
    "#     'E12-14': pd.read_csv(\"/Users/krilowcn/Desktop/Projects/GSIS/data/normalizedData/200613_E12_logNorm/200613_E12-14_logNorm.csv.gz\", sep=\",\", index_col=0,low_memory=False),   \n",
    "    'E12-15': pd.read_csv(\"/Users/krilowcn/Desktop/Projects/GSIS/data/normalizedData/200613_E12_logNorm/200613_E12-15_logNorm.csv.gz\", sep=\",\", index_col=0,low_memory=False),  \n",
    "    'E12-16': pd.read_csv(\"/Users/krilowcn/Desktop/Projects/GSIS/data/normalizedData/200613_E12_logNorm/200613_E12-16_logNorm.csv.gz\", sep=\",\", index_col=0,low_memory=False),    \n",
    "    'E12-17': pd.read_csv(\"/Users/krilowcn/Desktop/Projects/GSIS/data/normalizedData/200613_E12_logNorm/200613_E12-17_logNorm.csv.gz\", sep=\",\", index_col=0,low_memory=False),  \n",
    "    'E12-18': pd.read_csv(\"/Users/krilowcn/Desktop/Projects/GSIS/data/normalizedData/200613_E12_logNorm/200613_E12-18_logNorm.csv.gz\", sep=\",\", index_col=0,low_memory=False),  \n",
    "    'E12-19': pd.read_csv(\"/Users/krilowcn/Desktop/Projects/GSIS/data/normalizedData/200613_E12_logNorm/200613_E12-19_logNorm.csv.gz\", sep=\",\", index_col=0,low_memory=False),  \n",
    "    'E12-20': pd.read_csv(\"/Users/krilowcn/Desktop/Projects/GSIS/data/normalizedData/200613_E12_logNorm/200613_E12-20_logNorm.csv.gz\", sep=\",\", index_col=0,low_memory=False),  \n",
    "    'E12-21': pd.read_csv(\"/Users/krilowcn/Desktop/Projects/GSIS/data/normalizedData/200613_E12_logNorm/200613_E12-21_logNorm.csv.gz\", sep=\",\", index_col=0,low_memory=False),  \n",
    "    'E12-22': pd.read_csv(\"/Users/krilowcn/Desktop/Projects/GSIS/data/normalizedData/200613_E12_logNorm/200613_E12-22_logNorm.csv.gz\", sep=\",\", index_col=0,low_memory=False)\n",
    "}"
   ]
  },
  {
   "cell_type": "code",
   "execution_count": 29,
   "metadata": {},
   "outputs": [
    {
     "data": {
      "text/plain": [
       "dict"
      ]
     },
     "execution_count": 29,
     "metadata": {},
     "output_type": "execute_result"
    }
   ],
   "source": [
    "type(e7_e12_sample_dict)"
   ]
  },
  {
   "cell_type": "code",
   "execution_count": 36,
   "metadata": {},
   "outputs": [
    {
     "ename": "SyntaxError",
     "evalue": "unexpected EOF while parsing (<ipython-input-36-2057d39b9aab>, line 6)",
     "output_type": "error",
     "traceback": [
      "\u001b[0;36m  File \u001b[0;32m\"<ipython-input-36-2057d39b9aab>\"\u001b[0;36m, line \u001b[0;32m6\u001b[0m\n\u001b[0;31m    \u001b[0m\n\u001b[0m    ^\u001b[0m\n\u001b[0;31mSyntaxError\u001b[0m\u001b[0;31m:\u001b[0m unexpected EOF while parsing\n"
     ]
    }
   ],
   "source": [
    "e7_e12_cells = pd.DataFrame([], columns = ['gene', 'mean_expr_7', 'mean_expr_12','cell_type', 'time_point'])\n",
    "\n",
    "for cell_type in np.unique(cell_types['CellType']): #loop over each cell type\n",
    "#     sub_cells = cell_types[cell_types.CellType == cell_type]\n",
    "#     print(cell_types[cell_types.CellType == cell_type])\n",
    "    "
   ]
  },
  {
   "cell_type": "code",
   "execution_count": 16,
   "metadata": {},
   "outputs": [
    {
     "ename": "NameError",
     "evalue": "name 'e7_e12_sample_dict' is not defined",
     "output_type": "error",
     "traceback": [
      "\u001b[0;31m---------------------------------------------------------------------------\u001b[0m",
      "\u001b[0;31mNameError\u001b[0m                                 Traceback (most recent call last)",
      "\u001b[0;32m<ipython-input-16-a53d2b7e18e1>\u001b[0m in \u001b[0;36m<module>\u001b[0;34m\u001b[0m\n\u001b[1;32m     10\u001b[0m \u001b[0;34m\u001b[0m\u001b[0m\n\u001b[1;32m     11\u001b[0m         \u001b[0;31m#Get sample IDs\u001b[0m\u001b[0;34m\u001b[0m\u001b[0;34m\u001b[0m\u001b[0;34m\u001b[0m\u001b[0m\n\u001b[0;32m---> 12\u001b[0;31m         \u001b[0mcounts_1\u001b[0m \u001b[0;34m=\u001b[0m \u001b[0me7_e12_sample_dict\u001b[0m\u001b[0;34m.\u001b[0m\u001b[0mget\u001b[0m\u001b[0;34m(\u001b[0m\u001b[0msampls\u001b[0m\u001b[0;34m[\u001b[0m\u001b[0;36m0\u001b[0m\u001b[0;34m]\u001b[0m\u001b[0;34m)\u001b[0m\u001b[0;34m\u001b[0m\u001b[0;34m\u001b[0m\u001b[0m\n\u001b[0m\u001b[1;32m     13\u001b[0m         \u001b[0mcounts_2\u001b[0m \u001b[0;34m=\u001b[0m \u001b[0me7_e12_sample_dict\u001b[0m\u001b[0;34m.\u001b[0m\u001b[0mget\u001b[0m\u001b[0;34m(\u001b[0m\u001b[0msampls\u001b[0m\u001b[0;34m[\u001b[0m\u001b[0;36m1\u001b[0m\u001b[0;34m]\u001b[0m\u001b[0;34m)\u001b[0m\u001b[0;34m\u001b[0m\u001b[0;34m\u001b[0m\u001b[0m\n\u001b[1;32m     14\u001b[0m \u001b[0;34m\u001b[0m\u001b[0m\n",
      "\u001b[0;31mNameError\u001b[0m: name 'e7_e12_sample_dict' is not defined"
     ]
    }
   ],
   "source": [
    "e7_e12_cells = pd.DataFrame([], columns = ['gene', 'mean_expr_7', 'mean_expr_12','cell_type', 'time_point'])\n",
    "\n",
    "for cell_type in np.unique(cell_types['CellType']):\n",
    "#     if cell_type == \"unknown\":\n",
    "#         continue\n",
    "    sub_cells = cell_types[cell_types.CellType == cell_type]\n",
    "    for time_point in np.unique(cell_types['TimePoint']):\n",
    "        sampls = np.unique(cell_types[cell_types.TimePoint == time_point]['SampleID'])\n",
    "        \n",
    "        #Get sample IDs\n",
    "        counts_1 = e7_e12_sample_dict.get(sampls[0])\n",
    "        counts_2 = e7_e12_sample_dict.get(sampls[1])\n",
    "        \n",
    "        if counts_1 is None or counts_2 is None:\n",
    "            continue\n",
    "        \n",
    "        barcodes_1 = sub_cells[sub_cells.SampleID == sampls[0]]['CellID'].values\n",
    "        barcodes_2 = sub_cells[sub_cells.SampleID == sampls[1]]['CellID'].values\n",
    "        means_1 = np.mean(counts_1.loc[:, barcodes_1],axis=1) \n",
    "        means_2 = np.mean(counts_2.loc[:, barcodes_2],axis=1)\n",
    "        joint_index = np.intersect1d(means_1.index.values, means_2.index.values)\n",
    "\n",
    "        e7_e12_cells = e7_e12_cells.append(\n",
    "            pd.DataFrame({\n",
    "                'gene': joint_index,\n",
    "                'mean_expr_7': means_1.loc[joint_index].values,\n",
    "                'mean_expr_12': means_2.loc[joint_index].values,\n",
    "                'cell_type': [cell_type] * len(joint_index),\n",
    "                'time_point': [time_point] * len(joint_index)  \n",
    "            }))"
   ]
  },
  {
   "cell_type": "code",
   "execution_count": 21,
   "metadata": {},
   "outputs": [],
   "source": [
    "\n",
    "# Get indexes where name column has value john and \n",
    "# value column equals to 0.0\n",
    "# indexNames = e7_e12_cells[(e7_e12_cells['time_point'] == '8Hr')].index\n",
    "# Delete these row indexes from dataFrame\n",
    "# e7_e12_cells.drop(indexNames , inplace=True)\n",
    "# e7_e12_cells"
   ]
  },
  {
   "cell_type": "code",
   "execution_count": 22,
   "metadata": {},
   "outputs": [],
   "source": [
    "# list_ordering = ['0','2','4','12','24']  \n",
    "# e7_e12_cells[\"time_point\"] = pd.Categorical(e7_e12_cells[\"time_point\"], categories=list_ordering) \n",
    "# e7_e12_cells['cell_type']=e7_e12_cells['cell_type'].astype('string')"
   ]
  },
  {
   "cell_type": "code",
   "execution_count": 23,
   "metadata": {},
   "outputs": [],
   "source": [
    "# list_ordering = ['Zero Hr','Two Hr','Fou Hour','Twelve Hr','Twenty Four Hr']  \n",
    "# e7_e12_cells[\"time_point\"] = pd.Categorical(e7_e12_cells[\"time_point\"].astype('float'), categories=list_ordering) \n",
    "# e7_e12_cells.dropna(how='any', inplace=True)\n",
    "# e7_e12_cells"
   ]
  },
  {
   "cell_type": "code",
   "execution_count": 24,
   "metadata": {},
   "outputs": [],
   "source": [
    "%matplotlib inline\n",
    "\n",
    "plt9.options.figure_size = (22,10)\n",
    "\n",
    "plt9.ggplot(e7_e12_cells, plt9.aes(\n",
    "    x='mean_expr_7', \n",
    "    y = 'mean_expr_12')) + plt9.geom_point(\n",
    "        alpha=0.50) + geom_abline(intercept=0, \n",
    "    slope=1) + plt9.facet_grid('cell_type ~ time_point') + labs(title=\"Counts comparison between Experiments (E07 /vs/ E12)\",\n",
    "                                                                x=\"Experiment-7\",y=\"Experiment-12\",size=\"Gene\",color=\"Gene\") + theme_classic(base_family = \"Helvetica\")+geom_point(color='darkgreen')\n",
    "\n",
    "\n",
    "# p.save(filename = 'e7_e12_comparison.png', height=5, width=5, units = 'in', dpi=1000)"
   ]
  },
  {
   "cell_type": "code",
   "execution_count": null,
   "metadata": {},
   "outputs": [],
   "source": []
  }
 ],
 "metadata": {
  "kernelspec": {
   "display_name": "Python 3",
   "language": "python",
   "name": "python3"
  },
  "language_info": {
   "codemirror_mode": {
    "name": "ipython",
    "version": 3
   },
   "file_extension": ".py",
   "mimetype": "text/x-python",
   "name": "python",
   "nbconvert_exporter": "python",
   "pygments_lexer": "ipython3",
   "version": "3.8.5"
  }
 },
 "nbformat": 4,
 "nbformat_minor": 4
}
