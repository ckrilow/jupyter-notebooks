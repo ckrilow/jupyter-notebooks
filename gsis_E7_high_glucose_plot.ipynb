{
 "cells": [
  {
   "cell_type": "code",
   "execution_count": 13,
   "metadata": {},
   "outputs": [],
   "source": [
    "import plotly.graph_objs as go\n",
    "import pandas as pd\n",
    "from plotly.offline import iplot\n",
    "import numpy as np\n",
    "import statistics \n",
    "import plotly.express as px\n",
    "from numpy.lib import recfunctions as rfn"
   ]
  },
  {
   "cell_type": "code",
   "execution_count": 14,
   "metadata": {},
   "outputs": [],
   "source": [
    "e7_t09_rawCount_data = pd.read_csv(\"/Users/krilowcn/Desktop/Projects/GSIS/data/normalizedData/200613_E7_logNorm/200613_T09_logNorm.csv.gz\", sep=\",\", index_col=0,low_memory=False) #pandas DataFrame\n",
    "e7_t10_rawCount_data = pd.read_csv(\"/Users/krilowcn/Desktop/Projects/GSIS/data/normalizedData/200613_E7_logNorm/200613_T10_logNorm.csv.gz\", sep=\",\", index_col=0,low_memory=False) #pandas DataFrame\n",
    "e7_t17_rawCount_data = pd.read_csv(\"/Users/krilowcn/Desktop/Projects/GSIS/data/normalizedData/200613_E7_logNorm/200613_T17_logNorm.csv.gz\", sep=\",\", index_col=0,low_memory=False) #pandas DataFrame\n",
    "e7_t18_rawCount_data = pd.read_csv(\"/Users/krilowcn/Desktop/Projects/GSIS/data/normalizedData/200613_E7_logNorm/200613_T18_logNorm.csv.gz\", sep=\",\", index_col=0,low_memory=False) #pandas DataFrame\n",
    "e7_t21_rawCount_data = pd.read_csv(\"/Users/krilowcn/Desktop/Projects/GSIS/data/normalizedData/200613_E7_logNorm/200613_T21_logNorm.csv.gz\", sep=\",\", index_col=0,low_memory=False) #pandas DataFrame\n",
    "e7_t22_rawCount_data = pd.read_csv(\"/Users/krilowcn/Desktop/Projects/GSIS/data/normalizedData/200613_E7_logNorm/200613_T22_logNorm.csv.gz\", sep=\",\", index_col=0,low_memory=False) #pandas DataFrame\n",
    "\n",
    "cell_types = pd.read_csv(\"/Users/krilowcn/Desktop/Projects/GSIS/data/normalizedData/200613_E7_logNorm/200613_E7_cell_type.txt\", sep=\"\\t\") #pandas DataFrame for cell types"
   ]
  },
  {
   "cell_type": "code",
   "execution_count": 15,
   "metadata": {},
   "outputs": [],
   "source": [
    "cell_types_list = ['Alpha','Beta','Delta','Gamma','Epsilon'] #the cell types of interest for this work\n",
    "cell_types = cell_types[cell_types['CellType'].isin(cell_types_list)] # parsing sampele type list, to only contain the cell types of interest\n",
    "cell_types.reset_index(drop=True, inplace=True)\n",
    "\n",
    "updated_list = []\n",
    "for t in cell_types['SampleID'].values:\n",
    "    if t in ['T09', 'T10']:\n",
    "        updated_list.append('2Hr')\n",
    "    elif t in ['T17','T18']:\n",
    "        updated_list.append('12Hr')\n",
    "    elif t in ['T21','T22']:\n",
    "        updated_list.append('24Hr')\n",
    "    else:\n",
    "        updated_list.append('NA')\n",
    "\n",
    "        \n",
    "cell_types['TimePoint'] = updated_list"
   ]
  },
  {
   "cell_type": "code",
   "execution_count": 16,
   "metadata": {},
   "outputs": [],
   "source": [
    "# cell_types\n",
    "# Data dict\n",
    "sample_dict = {\n",
    "    'T09': pd.read_csv(\"/Users/krilowcn/Desktop/Projects/GSIS/data/normalizedData/200613_E7_logNorm/200613_T09_logNorm.csv.gz\", sep=\",\", index_col=0,low_memory=False), #pandas DataFrame,\n",
    "    'T10': pd.read_csv(\"/Users/krilowcn/Desktop/Projects/GSIS/data/normalizedData/200613_E7_logNorm/200613_T10_logNorm.csv.gz\", sep=\",\", index_col=0,low_memory=False), #pandas DataFrame\n",
    "    'T17': pd.read_csv(\"/Users/krilowcn/Desktop/Projects/GSIS/data/normalizedData/200613_E7_logNorm/200613_T17_logNorm.csv.gz\", sep=\",\", index_col=0,low_memory=False),\n",
    "    'T18': pd.read_csv(\"/Users/krilowcn/Desktop/Projects/GSIS/data/normalizedData/200613_E7_logNorm/200613_T18_logNorm.csv.gz\", sep=\",\", index_col=0,low_memory=False),\n",
    "    'T21': pd.read_csv(\"/Users/krilowcn/Desktop/Projects/GSIS/data/normalizedData/200613_E7_logNorm/200613_T21_logNorm.csv.gz\", sep=\",\", index_col=0,low_memory=False),\n",
    "    'T22': pd.read_csv(\"/Users/krilowcn/Desktop/Projects/GSIS/data/normalizedData/200613_E7_logNorm/200613_T22_logNorm.csv.gz\", sep=\",\", index_col=0,low_memory=False),\n",
    "}"
   ]
  },
  {
   "cell_type": "code",
   "execution_count": 17,
   "metadata": {},
   "outputs": [],
   "source": [
    "cells = pd.DataFrame([], columns = ['gene', 'mean_expr_1', 'mean_expr_2', 'cell_type', 'time_point'])\n",
    "\n",
    "for cell_type in np.unique(cell_types['CellType']):\n",
    "    if cell_type == \"unknown\":\n",
    "        continue\n",
    "    sub_cells = cell_types[cell_types.CellType == cell_type]\n",
    "    for time_point in np.unique(cell_types['TimePoint']):\n",
    "        ## To do -- deal with High / low glucose treatment\n",
    "        sampls = np.unique(cell_types[cell_types.TimePoint == time_point]['SampleID'])\n",
    "#         Get sample IDs\n",
    "        counts_1 = sample_dict.get(sampls[0])\n",
    "        counts_2 = sample_dict.get(sampls[1])\n",
    "        if counts_1 is None or counts_2 is None:\n",
    "            continue\n",
    "        \n",
    "        barcodes_1 = sub_cells[sub_cells.SampleID == sampls[0]]['CellID'].values\n",
    "        barcodes_2 = sub_cells[sub_cells.SampleID == sampls[1]]['CellID'].values\n",
    "        means_1 = np.mean(counts_1.loc[:, barcodes_1],axis=1) \n",
    "        means_2 = np.mean(counts_2.loc[:, barcodes_2],axis=1)\n",
    "        joint_index = np.intersect1d(means_1.index.values, means_2.index.values)\n",
    "\n",
    "        cells = cells.append( #look at the gene name for R1 and R2, output that and compare to see if they match or not*\n",
    "            pd.DataFrame({\n",
    "                'gene': joint_index,\n",
    "                'mean_expr_1': means_1.loc[joint_index].values,\n",
    "                'mean_expr_2': means_2.loc[joint_index].values,\n",
    "                'cell_type': [cell_type] * len(joint_index),\n",
    "                'time_point': [time_point] * len(joint_index)  \n",
    "            }))"
   ]
  },
  {
   "cell_type": "code",
   "execution_count": 18,
   "metadata": {},
   "outputs": [],
   "source": [
    "list_ordering = ['2Hr','12Hr','24Hr']  \n",
    "cells[\"time_point\"] = pd.Categorical(cells[\"time_point\"], categories=list_ordering) \n"
   ]
  },
  {
   "cell_type": "code",
   "execution_count": 21,
   "metadata": {},
   "outputs": [
    {
     "name": "stderr",
     "output_type": "stream",
     "text": [
      "/Users/krilowcn/anaconda3/envs/BINF/lib/python3.8/site-packages/plotnine/ggplot.py:727: PlotnineWarning: Saving 5 x 5 in image.\n",
      "/Users/krilowcn/anaconda3/envs/BINF/lib/python3.8/site-packages/plotnine/ggplot.py:730: PlotnineWarning: Filename: E07_high_glucose.png\n",
      "/Users/krilowcn/anaconda3/envs/BINF/lib/python3.8/site-packages/plotnine/layer.py:467: PlotnineWarning: geom_point : Removed 19640 rows containing missing values.\n",
      "/Users/krilowcn/anaconda3/envs/BINF/lib/python3.8/site-packages/plotnine/layer.py:467: PlotnineWarning: geom_point : Removed 19640 rows containing missing values.\n"
     ]
    }
   ],
   "source": [
    "import plotnine as plt9\n",
    "from plotnine import *\n",
    "from plotnine.data import *\n",
    "\n",
    "%matplotlib inline\n",
    "\n",
    "plt9.options.figure_size = (22,10)\n",
    "\n",
    "p=plt9.ggplot(cells, plt9.aes(\n",
    "    x='mean_expr_1', \n",
    "    y = 'mean_expr_2')) + plt9.geom_point(\n",
    "        alpha=0.50) + geom_abline(intercept=0, \n",
    "    slope=1) + plt9.facet_grid('cell_type ~ time_point') + labs(title=\"Counts comparison between technical replicates (E07-High Glucose)\",\n",
    "                                                                x=\"Replicate-1\",y=\"Replicate-2\",size=\"Gene\",color=\"Gene\") + theme_classic(base_family = \"Helvetica\")+geom_point(color='darkgreen')\n",
    "\n",
    "\n",
    "p.save(filename = 'E07_high_glucose.png', height=5, width=5, units = 'in', dpi=1000)"
   ]
  },
  {
   "cell_type": "code",
   "execution_count": null,
   "metadata": {},
   "outputs": [],
   "source": []
  }
 ],
 "metadata": {
  "kernelspec": {
   "display_name": "Python 3",
   "language": "python",
   "name": "python3"
  },
  "language_info": {
   "codemirror_mode": {
    "name": "ipython",
    "version": 3
   },
   "file_extension": ".py",
   "mimetype": "text/x-python",
   "name": "python",
   "nbconvert_exporter": "python",
   "pygments_lexer": "ipython3",
   "version": "3.8.5"
  }
 },
 "nbformat": 4,
 "nbformat_minor": 4
}
